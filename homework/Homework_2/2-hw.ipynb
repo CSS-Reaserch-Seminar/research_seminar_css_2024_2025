{
 "cells": [
  {
   "cell_type": "markdown",
   "metadata": {},
   "source": [
    "## НИС 24/25, ВСН\n",
    "\n",
    "## Семинар 1\n",
    "\n",
    "## Практическое домашнее задание 1\n",
    "\n",
    "### Общая информация\n",
    "\n",
    "Подготовил: goffkiril\n",
    "\n",
    "Дата выдачи: 27.11.2024\n",
    "\n",
    "Жесткий дедлайн: 04.11.2024"
   ]
  },
  {
   "cell_type": "markdown",
   "metadata": {},
   "source": [
    "# 0.0 Подготовка\n",
    "\n",
    "Перед работой я рекомедую настроть среду прогромирования. Скачайте [Vs Code](https://code.visualstudio.com/download). Прочитайте про extensions, установите python, jupyter дополнения и ежи с ними. Проверьте есть ли у вас питон на компьютере выполнив следюущую команду или в консоле или в блоке. В Питон ноутбуке все что начинается с **!** означает что поток вывода перенаправляется в консоль. "
   ]
  },
  {
   "cell_type": "code",
   "execution_count": 27,
   "metadata": {},
   "outputs": [
    {
     "name": "stdout",
     "output_type": "stream",
     "text": [
      "Python 3.12.3\n"
     ]
    }
   ],
   "source": [
    "!python3 --version"
   ]
  },
  {
   "cell_type": "markdown",
   "metadata": {},
   "source": [
    "Проверьте есть ли у вас *pip* менеджер пакетов и библиотек питона:"
   ]
  },
  {
   "cell_type": "code",
   "execution_count": 28,
   "metadata": {},
   "outputs": [
    {
     "name": "stdout",
     "output_type": "stream",
     "text": [
      "\n",
      "Usage:   \n",
      "  pip3 <command> [options]\n",
      "\n",
      "Commands:\n",
      "  install                     Install packages.\n",
      "  download                    Download packages.\n",
      "  uninstall                   Uninstall packages.\n",
      "  freeze                      Output installed packages in requirements format.\n",
      "  inspect                     Inspect the python environment.\n",
      "  list                        List installed packages.\n",
      "  show                        Show information about installed packages.\n",
      "  check                       Verify installed packages have compatible dependencies.\n",
      "  config                      Manage local and global configuration.\n",
      "  search                      Search PyPI for packages.\n",
      "  cache                       Inspect and manage pip's wheel cache.\n",
      "  index                       Inspect information available from package indexes.\n",
      "  wheel                       Build wheels from your requirements.\n",
      "  hash                        Compute hashes of package archives.\n",
      "  completion                  A helper command used for command completion.\n",
      "  debug                       Show information useful for debugging.\n",
      "  help                        Show help for commands.\n",
      "\n",
      "General Options:\n",
      "  -h, --help                  Show help.\n",
      "  --debug                     Let unhandled exceptions propagate outside the\n",
      "                              main subroutine, instead of logging them to\n",
      "                              stderr.\n",
      "  --isolated                  Run pip in an isolated mode, ignoring\n",
      "                              environment variables and user configuration.\n",
      "  --require-virtualenv        Allow pip to only run in a virtual environment;\n",
      "                              exit with an error otherwise.\n",
      "  --python <python>           Run pip with the specified Python interpreter.\n",
      "  -v, --verbose               Give more output. Option is additive, and can be\n",
      "                              used up to 3 times.\n",
      "  -V, --version               Show version and exit.\n",
      "  -q, --quiet                 Give less output. Option is additive, and can be\n",
      "                              used up to 3 times (corresponding to WARNING,\n",
      "                              ERROR, and CRITICAL logging levels).\n",
      "  --log <path>                Path to a verbose appending log.\n",
      "  --no-input                  Disable prompting for input.\n",
      "  --keyring-provider <keyring_provider>\n",
      "                              Enable the credential lookup via the keyring\n",
      "                              library if user input is allowed. Specify which\n",
      "                              mechanism to use [disabled, import, subprocess].\n",
      "                              (default: disabled)\n",
      "  --proxy <proxy>             Specify a proxy in the form\n",
      "                              scheme://[user:passwd@]proxy.server:port.\n",
      "  --retries <retries>         Maximum number of retries each connection should\n",
      "                              attempt (default 5 times).\n",
      "  --timeout <sec>             Set the socket timeout (default 15 seconds).\n",
      "  --exists-action <action>    Default action when a path already exists:\n",
      "                              (s)witch, (i)gnore, (w)ipe, (b)ackup, (a)bort.\n",
      "  --trusted-host <hostname>   Mark this host or host:port pair as trusted,\n",
      "                              even though it does not have valid or any HTTPS.\n",
      "  --cert <path>               Path to PEM-encoded CA certificate bundle. If\n",
      "                              provided, overrides the default. See 'SSL\n",
      "                              Certificate Verification' in pip documentation\n",
      "                              for more information.\n",
      "  --client-cert <path>        Path to SSL client certificate, a single file\n",
      "                              containing the private key and the certificate\n",
      "                              in PEM format.\n",
      "  --cache-dir <dir>           Store the cache data in <dir>.\n",
      "  --no-cache-dir              Disable the cache.\n",
      "  --disable-pip-version-check\n",
      "                              Don't periodically check PyPI to determine\n",
      "                              whether a new version of pip is available for\n",
      "                              download. Implied with --no-index.\n",
      "  --no-color                  Suppress colored output.\n",
      "  --no-python-version-warning\n",
      "                              Silence deprecation warnings for upcoming\n",
      "                              unsupported Pythons.\n",
      "  --use-feature <feature>     Enable new functionality, that may be backward\n",
      "                              incompatible.\n",
      "  --use-deprecated <feature>  Enable deprecated functionality, that will be\n",
      "                              removed in the future.\n"
     ]
    }
   ],
   "source": [
    "!pip3 "
   ]
  },
  {
   "cell_type": "markdown",
   "metadata": {},
   "source": [
    "ЕСЛИ У ВАС ЧТО-ТО НЕ УСТАНОВЛЕНО, ТО ГУГЛИТЕ КАК И СТАВЬТЕ. ДОЛЖЕН БЫТЬ ПИТОН И ПИП. "
   ]
  },
  {
   "cell_type": "markdown",
   "metadata": {},
   "source": [
    "Обновите менеджер пакетов pip"
   ]
  },
  {
   "cell_type": "code",
   "execution_count": null,
   "metadata": {},
   "outputs": [],
   "source": [
    "!pip3 install --upgrade pip # зависит от операционной системы, но идейно так"
   ]
  },
  {
   "cell_type": "markdown",
   "metadata": {},
   "source": [
    "Установите ipykernel для работы питон ноутбуков"
   ]
  },
  {
   "cell_type": "code",
   "execution_count": null,
   "metadata": {},
   "outputs": [],
   "source": [
    "!pip3 install ipykernel # установка ядра для jupyter"
   ]
  },
  {
   "cell_type": "markdown",
   "metadata": {},
   "source": [
    "На паре мы пользовались *CLI* утилитами по типу curl, wget. Используйте [brew](https://brew.sh/), если вы на маке, если вы на Windows, то установите wsl, про него можно прочитать тут https://learn.microsoft.com/en-us/windows/wsl/install. Из него можно использовать, но для дз нужно ток wget"
   ]
  },
  {
   "cell_type": "code",
   "execution_count": null,
   "metadata": {},
   "outputs": [],
   "source": [
    "!sudo apt install wget curl net-tools  #Лучше сделайте это через терминал"
   ]
  },
  {
   "cell_type": "markdown",
   "metadata": {},
   "source": [
    "## 0.1 Введение"
   ]
  },
  {
   "cell_type": "markdown",
   "metadata": {},
   "source": [
    "Сейчас мы находимся в jupyter-ноутбуке (или ipython-ноутбуке). Это удобная среда для написания кода, проведения экспериментов, изучения данных, построения визуализаций и других нужд, не связанных с написанием production-кода.\n",
    "\n",
    "Ноутбук состоит из ячеек, каждая из которых может быть либо ячейкой с кодом, либо ячейкой с текстом размеченным и неразмеченным. Текст поддерживает markdown-разметку и формулы в Latex.\n",
    "\n",
    "Для работы с содержимым ячейки используется *режим редактирования* (*Edit mode*, включается нажатием клавиши **Enter** после выбора ячейки), а для навигации между ячейками искользуется *командный режим* (*Command mode*, включается нажатием клавиши **Esc**). Тип ячейки можно задать в командном режиме либо с помощью горячих клавиш (**y** to code, **m** to markdown, **r** to edit raw text), либо в меню *Cell -> Cell type*.\n",
    "\n",
    "После заполнения ячейки нужно нажать *Shift + Enter*, эта команда обработает содержимое ячейки: проинтерпретирует код или сверстает размеченный текст."
   ]
  },
  {
   "cell_type": "code",
   "execution_count": 32,
   "metadata": {},
   "outputs": [
    {
     "data": {
      "text/plain": [
       "4"
      ]
     },
     "execution_count": 32,
     "metadata": {},
     "output_type": "execute_result"
    }
   ],
   "source": [
    "# ячейка с кодом, при выполнении которой появится output\n",
    "2 + 2"
   ]
  },
  {
   "cell_type": "markdown",
   "metadata": {},
   "source": [
    "Ячейка с неразмеченным текстом."
   ]
  },
  {
   "cell_type": "markdown",
   "metadata": {},
   "source": [
    "Попробуйте создать свои ячейки, написать какой-нибудь код и текст какой-нибудь формулой."
   ]
  },
  {
   "cell_type": "code",
   "execution_count": 33,
   "metadata": {},
   "outputs": [],
   "source": [
    "# (￣^￣)ゞ"
   ]
  },
  {
   "cell_type": "markdown",
   "metadata": {},
   "source": [
    "[Здесь](https://athena.brynmawr.edu/jupyter/hub/dblank/public/Jupyter%20Notebook%20Users%20Manual.ipynb) находится <s>не</s>большая заметка о используемом языке разметки Markdown. Он позволяет:\n",
    "\n",
    "0. Составлять упорядоченные списки\n",
    "1. Выделять *текст* <s>при</s> **необходимости**\n",
    "2. Добавлять [ссылки](http://imgs.xkcd.com/comics/the_universal_label.png)\n",
    "\n",
    "\n",
    "* Составлять неупорядоченные списки\n",
    "\n",
    "Делать вставки с помощью LaTex:\n",
    "    \n",
    "$\n",
    "\\left\\{\n",
    "\\begin{array}{ll}\n",
    "x = 16 \\sin^3 (t) \\\\\n",
    "y = 13 \\cos (t) - 5 \\cos (2t) - 2 \\cos (3t) - \\cos (4t) \\\\\n",
    "t \\in [0, 2 \\pi]\n",
    "\\end{array}\n",
    "\\right.$"
   ]
  },
  {
   "cell_type": "markdown",
   "metadata": {},
   "source": [
    "А ещё можно вставлять картинки, или гифки, или что захотите:\n",
    "\n",
    "<img src=\"https://encrypted-tbn0.gstatic.com/images?q=tbn:ANd9GcRSJRojORh2Kzut03PT2dPiPM6GKNYCh-zwBg&s\" style=\"width: 200px\">"
   ]
  },
  {
   "cell_type": "markdown",
   "metadata": {},
   "source": [
    "### Google Colab"
   ]
  },
  {
   "cell_type": "markdown",
   "metadata": {},
   "source": [
    "Что за колаб?\n",
    "\n",
    "**Google Colab (Colaboratory)** это **Jupyter Notebook + Cloud + Google Drive.**\n",
    "\n",
    "Компания Google предоставляет возможность бесплатно запускать ноутбуки (предварительно загрузив их на свой гугл-диск) прямо в облаке. При этом вам не требуется установка никаких пакетов на свою машину, а работать можно прямиком из браузера. Вот ссылка:"
   ]
  },
  {
   "cell_type": "markdown",
   "metadata": {},
   "source": [
    "https://colab.research.google.com"
   ]
  },
  {
   "cell_type": "markdown",
   "metadata": {},
   "source": [
    "**НО Я ЖЕСТКО РЕКОМЕНДУЮ ДЕЛАТЬ ЛОКАЛЬНО ЧЕРЕЗ VS CODE**"
   ]
  },
  {
   "cell_type": "markdown",
   "metadata": {},
   "source": [
    "# 1 Задание. Техническое Задание."
   ]
  },
  {
   "cell_type": "markdown",
   "metadata": {},
   "source": [
    "Давайте представим, что вы устроились в лабораторию факультета экономических наук и ваш начальник Киреев Алексей Всеволодович дает вам задание. Внимательно с ним ознакомься.\n"
   ]
  },
  {
   "cell_type": "markdown",
   "metadata": {},
   "source": [
    "Алексей Всеволодович, [11/25/24 11:13 PM]\n",
    "\n",
    "Привет! Мы пишем статью про то как носители дворянских фамилий живут в России. Здесь появляется подзадача: надо понять сколько носителей определенной фамилии живет в России. \n",
    "\n",
    "У нас есть датасет с фамилиями. Выложили его [сюда](https://www.dropbox.com/scl/fi/y1xknmc823otg0798mno1/surnames.csv?rlkey=ilnnq0rvkawnq84hghnxin9jb&st=9n5kpu31&dl=0). Нам повезло и не нужно покупать сливы госуслуг, есть сайтик https://forebears.io/surnames/sedashov, на котором видно сколько носителей определенной фамилии живет в разных странах (можешь поискать себя, довольно интересно потыкать).\n",
    "Осторожнее с тем, что Россия не всегда топ1 по популярности, надо делать проверку что ты парсишь именно ее цифорку, еще одна проблема когда Россия вообще не выдается в списке стран.\n",
    "\n",
    "\n",
    "Про сам датасет, вкратце поясню поля\n",
    "\n",
    "``plural`` -- фамилия как она была в Родовой книге, чаще всего во множественном числе\n",
    "\n",
    "``male`` -- какими-то манипуляциями с окончаниями перевели фамилию в мужской род\n",
    "\n",
    "``female`` -- аналогично с женским родом\n",
    "\n",
    "``title`` -- вообще тут это не понадобится, но если интересно это уровень дворянства \n",
    "\n",
    "``male_eng``, ``female_eng`` -- попытались перевести фамилии в тот формат латиницы, которым формируются ссылки (обрати внимание, что ссылки на страницу фамилии говорящие, они заканчиваются например на .io/surnames/kiryukhov), то есть с помощью этих столбцов должно быть можно ходить на сайт \n",
    "\n",
    "\n",
    "Что хочется получить? Хотим получить 2 новых столбца: ``male_cnt``, ``female_cnt`` - собственно количество носителей для каждого из полов. Если данной фамилии нет на сайте добавляй в столбец '-', если есть, но Россия не в топе стран - 0. Иначе значение для России"
   ]
  },
  {
   "cell_type": "markdown",
   "metadata": {},
   "source": [
    "<img src=\"tmp/ТЗ.png\" style=\"width: 400px\">"
   ]
  },
  {
   "cell_type": "markdown",
   "metadata": {},
   "source": [
    "# 2 Задание. Просмотр файла и понимание задачи (2 балла)"
   ]
  },
  {
   "cell_type": "markdown",
   "metadata": {},
   "source": [
    "Давайте скачаем файл, который нам скинул Алексей Всеволодович.\n",
    "\n",
    "Можете исполнить команду ниже или скачать по ссылке, но рекомдую разобраться с wget. На винде через командную строку и wsl "
   ]
  },
  {
   "cell_type": "code",
   "execution_count": null,
   "metadata": {},
   "outputs": [
    {
     "name": "stdout",
     "output_type": "stream",
     "text": [
      "--2024-11-25 23:09:39--  https://www.dropbox.com/scl/fi/y1xknmc823otg0798mno1/surnames.csv?rlkey=ilnnq0rvkawnq84hghnxin9jb&st=9n5kpu31&dl=0\n",
      "Resolving www.dropbox.com (www.dropbox.com)... 162.125.66.18, 2620:100:6022:18::a27d:4212\n",
      "Connecting to www.dropbox.com (www.dropbox.com)|162.125.66.18|:443... connected.\n",
      "HTTP request sent, awaiting response... 302 Found\n",
      "Location: https://uc9a7f900fbe3915e63e22af5dc2.dl.dropboxusercontent.com/cd/0/inline/CfHDs1LTZOJEh2Ch7ZsG155UWiIvguBEn7xZUErEKvljKg_gw3JqrSxzmBCrX7jgG_ARQpwoQqf_tMvpqY4VFCk2gDPK3eIeMC8qUvi_eAck0qM4zm35Gwsq3mjuhzlDvB4j5N2qEO7SoCMK4dTX2-Uz/file# [following]\n",
      "--2024-11-25 23:09:40--  https://uc9a7f900fbe3915e63e22af5dc2.dl.dropboxusercontent.com/cd/0/inline/CfHDs1LTZOJEh2Ch7ZsG155UWiIvguBEn7xZUErEKvljKg_gw3JqrSxzmBCrX7jgG_ARQpwoQqf_tMvpqY4VFCk2gDPK3eIeMC8qUvi_eAck0qM4zm35Gwsq3mjuhzlDvB4j5N2qEO7SoCMK4dTX2-Uz/file\n",
      "Resolving uc9a7f900fbe3915e63e22af5dc2.dl.dropboxusercontent.com (uc9a7f900fbe3915e63e22af5dc2.dl.dropboxusercontent.com)... 162.125.66.15, 2620:100:6021:15::a27d:410f\n",
      "Connecting to uc9a7f900fbe3915e63e22af5dc2.dl.dropboxusercontent.com (uc9a7f900fbe3915e63e22af5dc2.dl.dropboxusercontent.com)|162.125.66.15|:443... connected.\n",
      "HTTP request sent, awaiting response... 200 OK\n",
      "Length: 670880 (655K) [text/plain]\n",
      "Saving to: ‘./surnames.csv’\n",
      "\n",
      "./surnames.csv      100%[===================>] 655.16K  2.35MB/s    in 0.3s    \n",
      "\n",
      "2024-11-25 23:09:41 (2.35 MB/s) - ‘./surnames.csv’ saved [670880/670880]\n",
      "\n"
     ]
    }
   ],
   "source": [
    "!wget -O 'surnames.csv' \"https://www.dropbox.com/scl/fi/y1xknmc823otg0798mno1/surnames.csv?rlkey=ilnnq0rvkawnq84hghnxin9jb&st=9n5kpu31&dl=0\""
   ]
  },
  {
   "cell_type": "markdown",
   "metadata": {},
   "source": [
    "Откройте файл и посмотрите его содержимое, используя пандас!\n",
    "\n",
    "**Не забудем его установить через pip3.**"
   ]
  },
  {
   "cell_type": "code",
   "execution_count": null,
   "metadata": {},
   "outputs": [],
   "source": [
    "import pandas as pd\n",
    "\n",
    "df = pd.read_csv('surnames.csv')\n",
    "df.head()"
   ]
  },
  {
   "cell_type": "markdown",
   "metadata": {},
   "source": [
    "Оцените масштаб проблемы, посмотрите количество строк в массиве"
   ]
  },
  {
   "cell_type": "code",
   "execution_count": null,
   "metadata": {},
   "outputs": [],
   "source": [
    "# (￣^￣)ゞ"
   ]
  },
  {
   "cell_type": "markdown",
   "metadata": {},
   "source": [
    "Проверьте есть ли в нем повторения по ``male_eng`` и ``female_eng``, зачем делать лишнюю работу? При их наличии удалите все дубликаты и выведите итоговое количество строк."
   ]
  },
  {
   "cell_type": "code",
   "execution_count": null,
   "metadata": {},
   "outputs": [],
   "source": [
    "# (￣^￣)ゞ"
   ]
  },
  {
   "cell_type": "markdown",
   "metadata": {},
   "source": [
    "Будет маленькая проверка."
   ]
  },
  {
   "cell_type": "code",
   "execution_count": 5,
   "metadata": {},
   "outputs": [],
   "source": [
    "assert df.shape[0] == 4293, 'Количество фамилий не совпадает, перепроверьте данные'"
   ]
  },
  {
   "cell_type": "markdown",
   "metadata": {},
   "source": [
    "Переиндексируйте колонки, после удаления, если вы ещё не сделайте. Если вы удаляете строки из датафрейма, то индексы не сбарсываются."
   ]
  },
  {
   "cell_type": "code",
   "execution_count": null,
   "metadata": {},
   "outputs": [],
   "source": [
    "# (￣^￣)ゞ"
   ]
  },
  {
   "cell_type": "markdown",
   "metadata": {},
   "source": [
    "Добавьте нужные колонки в датафрейм."
   ]
  },
  {
   "cell_type": "code",
   "execution_count": null,
   "metadata": {},
   "outputs": [],
   "source": [
    "# (￣^￣)ゞ"
   ]
  },
  {
   "cell_type": "markdown",
   "metadata": {},
   "source": [
    "# 3 Задание. Сбор и обработка данных данных (5 баллов + 3 Бонуса) "
   ]
  },
  {
   "cell_type": "markdown",
   "metadata": {},
   "source": [
    "Как мы говорили на семинаре есть два способа как решать эту задачу: selemium & request. \n",
    "\n",
    "Этот сайтик легче парсить через вебдрайвер. "
   ]
  },
  {
   "cell_type": "markdown",
   "metadata": {},
   "source": [
    "Для изучения html кода и самого сайтика рекомендую использовать Dev Tools в Chrome. "
   ]
  },
  {
   "cell_type": "markdown",
   "metadata": {},
   "source": [
    "<figure>\n",
    "  <img src=\"tmp/image.png\" style=\"width: 700px\" alt=\"Тут находиться\">\n",
    "  <figcaption>Тут находиться</figcaption>\n",
    "</figure>"
   ]
  },
  {
   "cell_type": "markdown",
   "metadata": {},
   "source": [
    "<figure>\n",
    "  <img src=\"tmp/image_2.png\" style=\"width: 700px\" alt=\"Выдляем блок\">\n",
    "  <figcaption>Можем навестисть с помощью курсора и в разделе Elements найти где это в html</figcaption>\n",
    "</figure>"
   ]
  },
  {
   "cell_type": "markdown",
   "metadata": {},
   "source": [
    "<figure>\n",
    "  <img src=\"tmp/image_3.png\" style=\"width: 700px\" alt=\"Выдляем блок\">\n",
    "  <figcaption>Можем скопировать отдельный блок и его XPath, рекомендую парсить по нему, почитайте что это</figcaption>\n",
    "</figure>\n"
   ]
  },
  {
   "cell_type": "markdown",
   "metadata": {},
   "source": [
    "[XPath](https://stackoverflow.com/questions/11465555/can-we-use-xpath-with-beautifulsoup) тык\n",
    "\n",
    "[BeatifulSoup](https://stackabuse.com/guide-to-parsing-html-with-beautifulsoup-in-python/) норм гайд"
   ]
  },
  {
   "cell_type": "markdown",
   "metadata": {},
   "source": [
    "### 3.1 Selenium (5 баллов) "
   ]
  },
  {
   "cell_type": "markdown",
   "metadata": {},
   "source": [
    "В этом блоке мы попробуем поиграться с ``Selenium``, так как чаще всего проще. Я рекомендую поспрашивать гптшки и почитать о его [возможноястях]([https://classroom.github.com/classrooms/188400065-css-reaserch-seminar-classroom-2024-2025), рекомендую гуглить на [английском](https://towardsdatascience.com/how-to-use-selenium-to-web-scrape-with-example-80f9b23a843a).\n"
   ]
  },
  {
   "cell_type": "markdown",
   "metadata": {},
   "source": [
    "Реализуйте функции:\n",
    "\n",
    "-  ``scrape``, которая получает фамилию на вход и собирает html старничку с сайта\n",
    "\n",
    "-  ``parse``, которая получает html и экстрактит необходимые фичи.\n",
    "\n",
    "-  ``insert_data``, вставляет распостраненость фамилии в России"
   ]
  },
  {
   "cell_type": "markdown",
   "metadata": {},
   "source": [
    "Вы можете переделывать структуру кода, использовать разные драйверы, едиснвтенное условие использовать ``Selenium`` для получения данных и также работать с ``Pandas`` 🐼"
   ]
  },
  {
   "cell_type": "code",
   "execution_count": null,
   "metadata": {},
   "outputs": [],
   "source": [
    "from selenium import webdriver\n",
    "from selenium.webdriver.chrome.service import Service\n",
    "from selenium.webdriver.chrome.options import Options\n",
    "from webdriver_manager.chrome import ChromeDriverManager\n",
    "import time\n",
    "\n",
    "# import BeautifulSoup as bs4 or from lxml import etree\n",
    "\n",
    "def parse(html_code):\n",
    "    # (￣^￣)ゞ\n",
    "    pass\n",
    "\n",
    "def scrape(surname):\n",
    "    # (￣^￣)ゞ\n",
    "    pass\n",
    "\n",
    "def insert_data(count_of_fata ):\n",
    "    # (￣^￣)ゞ\n",
    "    pass\n",
    "\n",
    "\n",
    "# (￣^￣)ゞ"
   ]
  },
  {
   "cell_type": "markdown",
   "metadata": {},
   "source": [
    "Выведите итоговый датафрейм:"
   ]
  },
  {
   "cell_type": "code",
   "execution_count": null,
   "metadata": {},
   "outputs": [],
   "source": [
    "df"
   ]
  },
  {
   "cell_type": "markdown",
   "metadata": {},
   "source": [
    "### 3.2 Request, httpx и тп (БОНУС, 3 Балла)"
   ]
  },
  {
   "cell_type": "markdown",
   "metadata": {},
   "source": [
    "Коллега, решил впечатлить Алексея Всеволодовича и написать код используя чисто HTTP?\n",
    "\n",
    "Тут у тебя полная свобода действий, едиственнный совет изображен на картинке:"
   ]
  },
  {
   "cell_type": "markdown",
   "metadata": {},
   "source": [
    "<figure>\n",
    "  <img src=\"tmp/image_4.png\" style=\"width: 700px\" alt=\"Выдляем блок\">\n",
    "  <figcaption>Можем скопировать запрос, который посылается, вообщем смотрим в раздел Network и смотрим какие заголовки принимает сайт и стараемся их рандомизировать подменять</figcaption>\n",
    "</figure>\n"
   ]
  },
  {
   "cell_type": "markdown",
   "metadata": {},
   "source": [
    "[Ролик на Ютубе полезный](https://www.youtube.com/watch?v=Jc7Hp953xg8)"
   ]
  },
  {
   "cell_type": "code",
   "execution_count": null,
   "metadata": {},
   "outputs": [],
   "source": [
    "# (￣^￣)ゞ"
   ]
  },
  {
   "cell_type": "markdown",
   "metadata": {},
   "source": [
    "### 4. Посмотрим данные, которые мы собрали (3 балла)"
   ]
  },
  {
   "cell_type": "markdown",
   "metadata": {},
   "source": [
    "Посчитайте количество найденных фамилий."
   ]
  },
  {
   "cell_type": "code",
   "execution_count": null,
   "metadata": {},
   "outputs": [],
   "source": [
    "# (￣^￣)ゞ"
   ]
  },
  {
   "cell_type": "markdown",
   "metadata": {},
   "source": [
    "Выведите топ 10 самых непопулярных фамилии в России"
   ]
  },
  {
   "cell_type": "code",
   "execution_count": null,
   "metadata": {},
   "outputs": [],
   "source": [
    "# (￣^￣)ゞ"
   ]
  },
  {
   "cell_type": "markdown",
   "metadata": {},
   "source": [
    "Постройте гистаграму по фамилиям, где по оси X - отложите фамилии (поиграйтесь с этим, пропустите каждые 2/3 фамилии по порядку, чтобы график был читабельным), а по оси Y - количество фамилий в России"
   ]
  },
  {
   "cell_type": "code",
   "execution_count": null,
   "metadata": {},
   "outputs": [],
   "source": [
    "# (￣^￣)ゞ"
   ]
  },
  {
   "cell_type": "markdown",
   "metadata": {},
   "source": [
    "### 5. Заверашаем работу"
   ]
  },
  {
   "cell_type": "markdown",
   "metadata": {},
   "source": [
    "Сохрнатите итоговый датафрейм"
   ]
  },
  {
   "cell_type": "code",
   "execution_count": null,
   "metadata": {},
   "outputs": [],
   "source": [
    "df.to_csv('surnames_itog.csv', index=False)"
   ]
  },
  {
   "cell_type": "markdown",
   "metadata": {},
   "source": [
    "Напишите маленький отчет ``SOLUTION.MD`` файл, в котором опишите как работает ваше решение из 3.1, с какими проблемами вы сталкнулись как их решали. Без этого файлика за все секции ниже 3.1  ставиться 0. Мяу. Также, если вы решили бонуску, то она засчитаывается при наличии ``SOLUTION.MD`` и описанием решения."
   ]
  },
  {
   "cell_type": "markdown",
   "metadata": {},
   "source": [
    "Смешная проверка файлов"
   ]
  },
  {
   "cell_type": "code",
   "execution_count": null,
   "metadata": {},
   "outputs": [],
   "source": [
    "import glob\n",
    "import os\n",
    "\n",
    "def file_exists(filename):\n",
    "    return bool(glob.glob(f'**/{filename}', recursive=True))\n",
    "\n",
    "assert file_exists('surnames_itog.csv'), 'База данных не найдена'\n",
    "assert file_exists('SOLUTION.md'), 'Файл с решением не найден'"
   ]
  }
 ],
 "metadata": {
  "kernelspec": {
   "display_name": "Python 3",
   "language": "python",
   "name": "python3"
  },
  "language_info": {
   "codemirror_mode": {
    "name": "ipython",
    "version": 3
   },
   "file_extension": ".py",
   "mimetype": "text/x-python",
   "name": "python",
   "nbconvert_exporter": "python",
   "pygments_lexer": "ipython3",
   "version": "3.12.7"
  }
 },
 "nbformat": 4,
 "nbformat_minor": 2
}
